{
  "nbformat": 4,
  "nbformat_minor": 0,
  "metadata": {
    "colab": {
      "provenance": [],
      "authorship_tag": "ABX9TyPljtnZmImDyRyIWpFIcveu",
      "include_colab_link": true
    },
    "kernelspec": {
      "name": "python3",
      "display_name": "Python 3"
    },
    "language_info": {
      "name": "python"
    }
  },
  "cells": [
    {
      "cell_type": "markdown",
      "metadata": {
        "id": "view-in-github",
        "colab_type": "text"
      },
      "source": [
        "<a href=\"https://colab.research.google.com/github/Kshitija0707/Password-Strength-Checker/blob/main/PasswordStrengthChecker.ipynb\" target=\"_parent\"><img src=\"https://colab.research.google.com/assets/colab-badge.svg\" alt=\"Open In Colab\"/></a>"
      ]
    },
    {
      "cell_type": "code",
      "execution_count": null,
      "metadata": {
        "colab": {
          "base_uri": "https://localhost:8080/"
        },
        "id": "jNBB2C3Z0Kye",
        "outputId": "672e0ae1-87f0-401a-a042-1e8eb2f92a9c"
      },
      "outputs": [
        {
          "output_type": "stream",
          "name": "stdout",
          "text": [
            "Enter your password: Yashwant1\n",
            "Medium strength password.\n"
          ]
        }
      ],
      "source": [
        "import re\n",
        "\n",
        "def evaluate_password_strength(password):\n",
        "    # Initialize score\n",
        "    score = 0\n",
        "\n",
        "    # Check length\n",
        "    if len(password) >= 8:\n",
        "        score += 1\n",
        "\n",
        "    # Check for uppercase letters\n",
        "    if re.search(r\"[A-Z]\", password):\n",
        "        score += 1\n",
        "\n",
        "    # Check for lowercase letters\n",
        "    if re.search(r\"[a-z]\", password):\n",
        "        score += 1\n",
        "\n",
        "    # Check for digits\n",
        "    if re.search(r\"\\d\", password):\n",
        "        score += 1\n",
        "\n",
        "    # Check for special characters\n",
        "    if re.search(r\"[!@#$%^&*()-+=]\", password):\n",
        "        score += 1\n",
        "\n",
        "    return score\n",
        "\n",
        "def main():\n",
        "    password = input(\"Enter your password: \")\n",
        "    strength = evaluate_password_strength(password)\n",
        "\n",
        "    if strength == 5:\n",
        "        print(\"Strong password!\")\n",
        "    elif 3 <= strength < 5:\n",
        "        print(\"Medium strength password.\")\n",
        "    else:\n",
        "        print(\"Weak password. Please consider making it stronger.\")\n",
        "\n",
        "if __name__ == \"__main__\":\n",
        "    main()\n"
      ]
    }
  ]
}